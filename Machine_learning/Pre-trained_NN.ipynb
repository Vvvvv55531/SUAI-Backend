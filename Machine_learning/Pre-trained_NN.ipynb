{
 "cells": [
  {
   "cell_type": "code",
   "execution_count": 1,
   "id": "06d835e1-c1c9-437d-8a11-7235af6f1504",
   "metadata": {},
   "outputs": [
    {
     "name": "stdout",
     "output_type": "stream",
     "text": [
      "Found 6589 images belonging to 4 classes.\n",
      "Found 2313 images belonging to 4 classes.\n"
     ]
    }
   ],
   "source": [
    "# Импорт библиотек\n",
    "import numpy as np\n",
    "import tensorflow as tf\n",
    "from tensorflow.keras.preprocessing.image import ImageDataGenerator\n",
    "from tensorflow.keras.layers import (Input, Flatten, Dense, Dropout)\n",
    "from tensorflow.keras import layers, models\n",
    "from sklearn.preprocessing import MinMaxScaler\n",
    "import seaborn as sns\n",
    "import matplotlib.pyplot as plt\n",
    "from sklearn.metrics import classification_report, confusion_matrix\n",
    "\n",
    "import warnings\n",
    "warnings.filterwarnings('ignore')\n",
    "\n",
    "# Параметры\n",
    "img_size = (64, 64)\n",
    "batch_size = 32\n",
    "\n",
    "# Нормализация\n",
    "data = ImageDataGenerator(rescale=1./255)\n",
    "\n",
    "# Данные\n",
    "train_data = data.flow_from_directory(\n",
    "    'Train',\n",
    "    target_size=(64, 64),\n",
    "    batch_size=32,\n",
    "    class_mode='categorical'\n",
    ")\n",
    "\n",
    "test_data = data.flow_from_directory(\n",
    "    'Test',\n",
    "    target_size=(64, 64),\n",
    "    batch_size=32,\n",
    "    class_mode='categorical',\n",
    "    shuffle=False\n",
    ")\n"
   ]
  },
  {
   "cell_type": "code",
   "execution_count": 2,
   "id": "0b2963ff-1b6d-45f7-a22d-a03ba729411d",
   "metadata": {},
   "outputs": [],
   "source": [
    "from tensorflow.keras.applications import ResNet50\n",
    "\n",
    "# Предобучение\n",
    "base_model = ResNet50(weights='imagenet', include_top=False, \n",
    "                      input_shape=(64, 64, 3))\n",
    "base_model.trainable = False\n",
    "    \n",
    "# Архитектура модели\n",
    "model_resnet = models.Sequential([\n",
    "    base_model,\n",
    "    layers.Flatten(),\n",
    "    layers.Dense(64, activation='relu'),\n",
    "    layers.Dropout(0.5),\n",
    "    layers.Dense(4, activation='softmax')\n",
    "])\n",
    "\n",
    "# Компиляция\n",
    "model_resnet.compile(optimizer='adam', \n",
    "                     loss='categorical_crossentropy', \n",
    "                     metrics=['accuracy'])\n",
    "\n",
    "#model.summary()"
   ]
  },
  {
   "cell_type": "code",
   "execution_count": 3,
   "id": "c4a0104f-e0a7-4951-af88-f61b89ef5415",
   "metadata": {},
   "outputs": [],
   "source": [
    "from tensorflow.keras.applications import EfficientNetB3\n",
    "\n",
    "base_model = EfficientNetB3(weights='imagenet', include_top=False, \n",
    "                            input_shape=(64, 64, 3))\n",
    "base_model.trainable = False\n",
    "\n",
    "model_effnet = models.Sequential([\n",
    "    base_model,\n",
    "    layers.Flatten(),\n",
    "    layers.Dense(64, activation='relu'),\n",
    "    layers.Dropout(0.5),\n",
    "    layers.Dense(4, activation='softmax')\n",
    "])\n",
    "\n",
    "model_effnet.compile(optimizer='adam', \n",
    "                     loss='categorical_crossentropy', \n",
    "                     metrics=['accuracy'])"
   ]
  },
  {
   "cell_type": "code",
   "execution_count": 4,
   "id": "b0ef10e6-f72f-4c1c-91ef-2ded4964482b",
   "metadata": {},
   "outputs": [],
   "source": [
    "from tensorflow.keras.applications import MobileNetV3Small\n",
    "\n",
    "base_model = MobileNetV3Small(weights='imagenet', include_top=False, \n",
    "                              input_shape=(64, 64, 3))\n",
    "base_model.trainable = False\n",
    "\n",
    "model_mobile = models.Sequential([\n",
    "    base_model,\n",
    "    layers.Flatten(),\n",
    "    layers.Dense(64, activation='relu'),\n",
    "    layers.Dropout(0.5),\n",
    "    layers.Dense(4, activation='softmax')\n",
    "])\n",
    "\n",
    "model_mobile.compile(optimizer='adam', \n",
    "                     loss='categorical_crossentropy', \n",
    "                     metrics=['accuracy'])"
   ]
  },
  {
   "cell_type": "code",
   "execution_count": 5,
   "id": "b1ad3dd9-5d6e-47cf-bbc3-ba582447260f",
   "metadata": {},
   "outputs": [
    {
     "name": "stdout",
     "output_type": "stream",
     "text": [
      "Epoch 1/3\n",
      "\u001b[1m206/206\u001b[0m \u001b[32m━━━━━━━━━━━━━━━━━━━━\u001b[0m\u001b[37m\u001b[0m \u001b[1m137s\u001b[0m 619ms/step - accuracy: 0.5103 - loss: 0.9262 - val_accuracy: 0.6459 - val_loss: 0.6922\n",
      "Epoch 2/3\n",
      "\u001b[1m206/206\u001b[0m \u001b[32m━━━━━━━━━━━━━━━━━━━━\u001b[0m\u001b[37m\u001b[0m \u001b[1m60s\u001b[0m 291ms/step - accuracy: 0.6122 - loss: 0.6915 - val_accuracy: 0.6576 - val_loss: 0.6457\n",
      "Epoch 3/3\n",
      "\u001b[1m206/206\u001b[0m \u001b[32m━━━━━━━━━━━━━━━━━━━━\u001b[0m\u001b[37m\u001b[0m \u001b[1m58s\u001b[0m 283ms/step - accuracy: 0.6447 - loss: 0.6666 - val_accuracy: 0.6904 - val_loss: 0.6089\n"
     ]
    }
   ],
   "source": [
    "# Обучение\n",
    "epochs = 3\n",
    "\n",
    "history_resnet = model_resnet.fit(\n",
    "    train_data,\n",
    "    epochs=epochs,\n",
    "    batch_size = batch_size,\n",
    "    validation_data=test_data\n",
    ")\n"
   ]
  },
  {
   "cell_type": "code",
   "execution_count": 6,
   "id": "17aaf0d8-b5f7-46b4-b122-ab579322b26c",
   "metadata": {},
   "outputs": [
    {
     "name": "stdout",
     "output_type": "stream",
     "text": [
      "Epoch 1/3\n",
      "\u001b[1m206/206\u001b[0m \u001b[32m━━━━━━━━━━━━━━━━━━━━\u001b[0m\u001b[37m\u001b[0m \u001b[1m81s\u001b[0m 280ms/step - accuracy: 0.4448 - loss: 1.3642 - val_accuracy: 0.4272 - val_loss: 1.2830\n",
      "Epoch 2/3\n",
      "\u001b[1m206/206\u001b[0m \u001b[32m━━━━━━━━━━━━━━━━━━━━\u001b[0m\u001b[37m\u001b[0m \u001b[1m56s\u001b[0m 268ms/step - accuracy: 0.4833 - loss: 1.1229 - val_accuracy: 0.4272 - val_loss: 1.2097\n",
      "Epoch 3/3\n",
      "\u001b[1m206/206\u001b[0m \u001b[32m━━━━━━━━━━━━━━━━━━━━\u001b[0m\u001b[37m\u001b[0m \u001b[1m41s\u001b[0m 200ms/step - accuracy: 0.4969 - loss: 1.1338 - val_accuracy: 0.4272 - val_loss: 1.1991\n"
     ]
    }
   ],
   "source": [
    "history_effnet = model_effnet.fit(\n",
    "    train_data,\n",
    "    epochs=epochs,\n",
    "    batch_size = batch_size,\n",
    "    validation_data=test_data\n",
    ")\n"
   ]
  },
  {
   "cell_type": "code",
   "execution_count": null,
   "id": "ce0ec51f-5a94-4380-9aae-c45fc98107df",
   "metadata": {},
   "outputs": [
    {
     "name": "stdout",
     "output_type": "stream",
     "text": [
      "Epoch 1/3\n"
     ]
    }
   ],
   "source": [
    "history_mobile = model_mobile.fit(\n",
    "    train_data,\n",
    "    epochs=epochs,\n",
    "    batch_size = batch_size,\n",
    "    validation_data=test_data\n",
    ")\n"
   ]
  },
  {
   "cell_type": "code",
   "execution_count": null,
   "id": "ebdcc58a-6a3e-4cf5-bfd4-6a1a279cbc98",
   "metadata": {},
   "outputs": [],
   "source": [
    "\n",
    "# Оценка моделей\n",
    "def show(model, history):\n",
    "    # Предсказания\n",
    "    y_pred = model.predict(test_data)\n",
    "    y_pred_classes = np.argmax(y_pred, axis=1)\n",
    "    y_true_classes = test_data.classes\n",
    "    \n",
    "    # Отчёт\n",
    "    print(classification_report(y_true_classes, \n",
    "                                y_pred_classes, \n",
    "                                target_names=list(test_data.class_indices.keys())))\n",
    "    \n",
    "    # Матрица ошибок\n",
    "    matrix = confusion_matrix(y_true_classes, y_pred_classes)\n",
    "    \n",
    "    plt.figure(figsize=(8,6))\n",
    "    sns.heatmap(matrix, \n",
    "                annot=True, \n",
    "                fmt='d', \n",
    "                cmap='Blues', \n",
    "                xticklabels=test_data.class_indices.keys(), \n",
    "                yticklabels=test_data.class_indices.keys())\n",
    "    plt.xlabel('Predicted')\n",
    "    plt.ylabel('True')\n",
    "    plt.title('Confusion Matrix')\n",
    "    plt.show()\n",
    "    \n",
    "    # Графики точности и потерь\n",
    "    plt.figure(figsize=(14,5))\n",
    "    \n",
    "    # Accuracy\n",
    "    plt.subplot(1,2,1)\n",
    "    plt.plot(history.history['accuracy'], label='Train Accuracy')\n",
    "    plt.plot(history.history['val_accuracy'], label='Validation Accuracy')\n",
    "    plt.legend()\n",
    "    plt.title('Изменение точности модели')\n",
    "    \n",
    "    # Loss\n",
    "    plt.subplot(1,2,2)\n",
    "    plt.plot(history.history['loss'], label='Train Loss')\n",
    "    plt.plot(history.history['val_loss'], label='Validation Loss')\n",
    "    plt.legend()\n",
    "    plt.title('Изменение функции потерь')\n",
    "    \n",
    "    plt.show()\n",
    "\n",
    "show(model_resnet, history_resnet)"
   ]
  },
  {
   "cell_type": "code",
   "execution_count": null,
   "id": "e0dd4be4-40c8-4c37-8268-b39f2fcf2c17",
   "metadata": {},
   "outputs": [],
   "source": [
    "show(model_effnet, history_effnet)"
   ]
  },
  {
   "cell_type": "code",
   "execution_count": null,
   "id": "45477ea4-eb6e-4ce0-98bc-f2461c5383b0",
   "metadata": {},
   "outputs": [],
   "source": [
    "show(model_mobile, history_mobile)"
   ]
  },
  {
   "cell_type": "code",
   "execution_count": null,
   "id": "654cf6c0-ae4b-4bfa-a004-db5c5eb80011",
   "metadata": {},
   "outputs": [],
   "source": []
  }
 ],
 "metadata": {
  "kernelspec": {
   "display_name": "Python 3 (ipykernel)",
   "language": "python",
   "name": "python3"
  },
  "language_info": {
   "codemirror_mode": {
    "name": "ipython",
    "version": 3
   },
   "file_extension": ".py",
   "mimetype": "text/x-python",
   "name": "python",
   "nbconvert_exporter": "python",
   "pygments_lexer": "ipython3",
   "version": "3.12.4"
  }
 },
 "nbformat": 4,
 "nbformat_minor": 5
}
